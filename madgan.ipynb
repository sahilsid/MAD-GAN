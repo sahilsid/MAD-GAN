{
 "cells": [
  {
   "cell_type": "code",
   "execution_count": 1,
   "metadata": {},
   "outputs": [],
   "source": [
    "import tensorflow as tf\n",
    "import tensorflow.keras as keras\n",
    "import matplotlib.pyplot as plt\n",
    "import numpy as np\n",
    "import os\n",
    "import PIL\n",
    "from PIL import Image\n",
    "from tensorflow.keras import layers\n",
    "import time\n",
    "from IPython import display\n",
    "from  tqdm import tqdm\n",
    "from skimage.transform import resize\n",
    "from tensorflow.keras.preprocessing.image import load_img\n",
    "from tensorflow.keras.preprocessing.image import img_to_array\n"
   ]
  },
  {
   "cell_type": "code",
   "execution_count": null,
   "metadata": {},
   "outputs": [],
   "source": []
  },
  {
   "cell_type": "markdown",
   "metadata": {},
   "source": [
    "**Hyper Parameters**"
   ]
  },
  {
   "cell_type": "code",
   "execution_count": 2,
   "metadata": {},
   "outputs": [],
   "source": [
    "IMAGE_DIMENSIONS  = [32,32,3]\n",
    "BUFFER_SIZE       = 60000\n",
    "BATCH_SIZE        = 128\n",
    "NUM_OF_GENERATORS = 5\n",
    "LEARNING_RATE     = 1e-5\n",
    "EPOCHS            = 5000\n",
    "NOISE_DIM         = 256\n",
    "NOISE_MEAN        = 0.0\n",
    "NOISE_STD_DEV     = 0.5\n",
    "WEIGHT_STD_DEV    = 0.02\n",
    "VISUALIZE_COUNT   = 16\n",
    "SEED              = tf.random.normal([VISUALIZE_COUNT,NOISE_DIM],NOISE_MEAN,NOISE_STD_DEV)\n"
   ]
  },
  {
   "cell_type": "markdown",
   "metadata": {},
   "source": [
    "**Set Directory**"
   ]
  },
  {
   "cell_type": "code",
   "execution_count": null,
   "metadata": {},
   "outputs": [],
   "source": []
  },
  {
   "cell_type": "code",
   "execution_count": 3,
   "metadata": {},
   "outputs": [],
   "source": [
    "if not os.path.exists('./{}_G/'.format(NUM_OF_GENERATORS)):\n",
    "            os.makedirs('./{}_G/'.format(NUM_OF_GENERATORS))\n"
   ]
  },
  {
   "cell_type": "markdown",
   "metadata": {},
   "source": [
    "**Load Training Data**"
   ]
  },
  {
   "cell_type": "code",
   "execution_count": 4,
   "metadata": {},
   "outputs": [
    {
     "name": "stdout",
     "output_type": "stream",
     "text": [
      "X_train.shape = (15243, 32, 32, 3)\n"
     ]
    }
   ],
   "source": [
    "dir_data      = \"data/img_align_celeba/\"\n",
    "Ntrain        = 200000 \n",
    "Ntest        = 100 \n",
    "nm_imgs       = np.sort(os.listdir(dir_data))\n",
    "nm_imgs_train = nm_imgs[:Ntrain]\n",
    "nm_imgs_test  = nm_imgs[Ntrain:Ntrain + Ntest]\n",
    "img_shape     = (IMAGE_DIMENSIONS[0],IMAGE_DIMENSIONS[1],IMAGE_DIMENSIONS[2])\n",
    "\n",
    "def get_npdata(nm_imgs_train):\n",
    "    X_train = []\n",
    "    for i, myid in enumerate(nm_imgs_train):\n",
    "        image = load_img(dir_data + \"/\" + myid,\n",
    "                         target_size=img_shape[:2])\n",
    "        image = img_to_array(image)/255.0\n",
    "        X_train.append(image)\n",
    "    X_train = np.array(X_train)\n",
    "    return(X_train)\n",
    "\n",
    "X_train = get_npdata(nm_imgs_train)\n",
    "print(\"X_train.shape = {}\".format(X_train.shape))\n",
    "\n",
    "train_dataset = tf.data.Dataset.from_tensor_slices(X_train).shuffle(Ntrain).batch(BATCH_SIZE)"
   ]
  },
  {
   "cell_type": "markdown",
   "metadata": {},
   "source": [
    "**Generator Model**\n"
   ]
  },
  {
   "cell_type": "code",
   "execution_count": 5,
   "metadata": {},
   "outputs": [],
   "source": [
    "def Generator():\n",
    "    model = tf.keras.Sequential()\n",
    "    model.add(layers.Dense(4*4*512,use_bias = False, input_shape=(NOISE_DIM,), kernel_initializer='random_normal'))\n",
    "    model.add(layers.BatchNormalization())\n",
    "    model.add(layers.LeakyReLU(0.2))\n",
    "    \n",
    "    model.add(layers.Reshape((4,4,512)))\n",
    "    \n",
    "    model.add(layers.Conv2DTranspose(256,(5,5),strides=(2,2),use_bias=False,padding='same', kernel_initializer=keras.initializers.RandomNormal(stddev=WEIGHT_STD_DEV)))\n",
    "    model.add(layers.BatchNormalization())\n",
    "    model.add(layers.LeakyReLU())\n",
    "    \n",
    "    model.add(layers.Conv2DTranspose(128,(5,5),strides=(2,2),use_bias=False,padding='same', kernel_initializer=keras.initializers.RandomNormal(stddev=WEIGHT_STD_DEV)))\n",
    "    model.add(layers.BatchNormalization())\n",
    "    model.add(layers.LeakyReLU())\n",
    "    \n",
    "    model.add(layers.Conv2DTranspose(3,(5,5),strides=(2,2),use_bias=False,padding='same',activation='tanh', kernel_initializer=keras.initializers.RandomNormal(stddev=WEIGHT_STD_DEV)))\n",
    "    model.summary()\n",
    "    return model\n",
    "    "
   ]
  },
  {
   "cell_type": "markdown",
   "metadata": {},
   "source": [
    "**Test Generator**"
   ]
  },
  {
   "cell_type": "code",
   "execution_count": 6,
   "metadata": {},
   "outputs": [
    {
     "name": "stdout",
     "output_type": "stream",
     "text": [
      "Model: \"sequential\"\n",
      "_________________________________________________________________\n",
      "Layer (type)                 Output Shape              Param #   \n",
      "=================================================================\n",
      "dense (Dense)                (None, 8192)              2097152   \n",
      "_________________________________________________________________\n",
      "batch_normalization_v2 (Batc (None, 8192)              32768     \n",
      "_________________________________________________________________\n",
      "leaky_re_lu (LeakyReLU)      (None, 8192)              0         \n",
      "_________________________________________________________________\n",
      "reshape (Reshape)            (None, 4, 4, 512)         0         \n",
      "_________________________________________________________________\n",
      "conv2d_transpose (Conv2DTran (None, 8, 8, 256)         3276800   \n",
      "_________________________________________________________________\n",
      "batch_normalization_v2_1 (Ba (None, 8, 8, 256)         1024      \n",
      "_________________________________________________________________\n",
      "leaky_re_lu_1 (LeakyReLU)    (None, 8, 8, 256)         0         \n",
      "_________________________________________________________________\n",
      "conv2d_transpose_1 (Conv2DTr (None, 16, 16, 128)       819200    \n",
      "_________________________________________________________________\n",
      "batch_normalization_v2_2 (Ba (None, 16, 16, 128)       512       \n",
      "_________________________________________________________________\n",
      "leaky_re_lu_2 (LeakyReLU)    (None, 16, 16, 128)       0         \n",
      "_________________________________________________________________\n",
      "conv2d_transpose_2 (Conv2DTr (None, 32, 32, 3)         9600      \n",
      "=================================================================\n",
      "Total params: 6,237,056\n",
      "Trainable params: 6,219,904\n",
      "Non-trainable params: 17,152\n",
      "_________________________________________________________________\n"
     ]
    },
    {
     "name": "stderr",
     "output_type": "stream",
     "text": [
      "Clipping input data to the valid range for imshow with RGB data ([0..1] for floats or [0..255] for integers).\n"
     ]
    },
    {
     "data": {
      "text/plain": [
       "<matplotlib.image.AxesImage at 0x7ff27822bf98>"
      ]
     },
     "execution_count": 6,
     "metadata": {},
     "output_type": "execute_result"
    },
    {
     "data": {
      "image/png": "[encoded data removed]",
      "text/plain": [
       "<Figure size 432x288 with 1 Axes>"
      ]
     },
     "metadata": {
      "needs_background": "light"
     },
     "output_type": "display_data"
    }
   ],
   "source": [
    "test_generator = Generator() \n",
    "noise  = np.random.normal(0,5,(VISUALIZE_COUNT,NOISE_DIM))\n",
    "generator_output = test_generator(noise,training=False)\n",
    "plt.imshow(np.squeeze(generator_output[0]))"
   ]
  },
  {
   "cell_type": "markdown",
   "metadata": {},
   "source": [
    "**Discriminator Model**"
   ]
  },
  {
   "cell_type": "code",
   "execution_count": 7,
   "metadata": {},
   "outputs": [],
   "source": [
    "def Discriminator():\n",
    "    noise = layers.GaussianNoise(0.05,input_shape=(IMAGE_DIMENSIONS[0],IMAGE_DIMENSIONS[1],IMAGE_DIMENSIONS[2]))\n",
    "    noise.trainable = False\n",
    "    model = tf.keras.Sequential()\n",
    "    model.add(noise)\n",
    "    model.add(layers.Conv2D(64,(5,5),strides=(2,2),padding='same',input_shape=(IMAGE_DIMENSIONS[0],IMAGE_DIMENSIONS[1],IMAGE_DIMENSIONS[2]), kernel_initializer=keras.initializers.RandomNormal(stddev=WEIGHT_STD_DEV))) \n",
    "    \n",
    "    model.add(layers.LeakyReLU(0.02))\n",
    "    \n",
    "    model.add(layers.Conv2D(128,(5,5),strides=(2,2),padding='same',input_shape=IMAGE_DIMENSIONS, kernel_initializer=keras.initializers.RandomNormal(stddev=WEIGHT_STD_DEV)))\n",
    "    model.add(layers.BatchNormalization())\n",
    "    model.add(layers.LeakyReLU(0.02))\n",
    "\n",
    "    \n",
    "    model.add(layers.Flatten())\n",
    "    model.add(layers.Dense(NUM_OF_GENERATORS+1, kernel_initializer=keras.initializers.RandomNormal(stddev=WEIGHT_STD_DEV),activation='sigmoid'))\n",
    "    model.summary()\n",
    "    return model\n",
    "    "
   ]
  },
  {
   "cell_type": "markdown",
   "metadata": {},
   "source": [
    "**Test Discriminator**"
   ]
  },
  {
   "cell_type": "code",
   "execution_count": 8,
   "metadata": {},
   "outputs": [
    {
     "name": "stdout",
     "output_type": "stream",
     "text": [
      "Model: \"sequential_1\"\n",
      "_________________________________________________________________\n",
      "Layer (type)                 Output Shape              Param #   \n",
      "=================================================================\n",
      "gaussian_noise (GaussianNois (None, 32, 32, 3)         0         \n",
      "_________________________________________________________________\n",
      "conv2d (Conv2D)              (None, 16, 16, 64)        4864      \n",
      "_________________________________________________________________\n",
      "leaky_re_lu_3 (LeakyReLU)    (None, 16, 16, 64)        0         \n",
      "_________________________________________________________________\n",
      "conv2d_1 (Conv2D)            (None, 8, 8, 128)         204928    \n",
      "_________________________________________________________________\n",
      "batch_normalization_v2_3 (Ba (None, 8, 8, 128)         512       \n",
      "_________________________________________________________________\n",
      "leaky_re_lu_4 (LeakyReLU)    (None, 8, 8, 128)         0         \n",
      "_________________________________________________________________\n",
      "flatten (Flatten)            (None, 8192)              0         \n",
      "_________________________________________________________________\n",
      "dense_1 (Dense)              (None, 6)                 49158     \n",
      "=================================================================\n",
      "Total params: 259,462\n",
      "Trainable params: 259,206\n",
      "Non-trainable params: 256\n",
      "_________________________________________________________________\n"
     ]
    }
   ],
   "source": [
    "\n",
    "test_discriminator = Discriminator() \n",
    "\n"
   ]
  },
  {
   "cell_type": "markdown",
   "metadata": {},
   "source": [
    "**Define Loss Functions**"
   ]
  },
  {
   "cell_type": "code",
   "execution_count": 9,
   "metadata": {},
   "outputs": [],
   "source": [
    "cross_entropy_loss = tf.keras.losses.CategoricalCrossentropy(from_logits=True)\n",
    "\n",
    "def generatorLoss(fake_prediction):\n",
    "    dirac_delta = np.zeros(fake_prediction.shape)\n",
    "    dirac_delta[:,NUM_OF_GENERATORS] = 0.999\n",
    "    dirac_delta = tf.convert_to_tensor(dirac_delta)\n",
    "    return cross_entropy_loss(dirac_delta,fake_prediction)\n",
    "\n",
    "\n",
    "def discriminatorLoss(fake_prediction,real_prediction,generator_index):\n",
    "    real_dirac_delta = np.zeros(real_prediction.shape)\n",
    "    real_dirac_delta[:,NUM_OF_GENERATORS] = 0.999\n",
    "    real_dirac_delta = tf.convert_to_tensor(real_dirac_delta)\n",
    "    \n",
    "    fake_dirac_delta = np.zeros(fake_prediction.shape)\n",
    "    fake_dirac_delta[:,generator_index] = 0.999\n",
    "    fake_dirac_delta = tf.convert_to_tensor(fake_dirac_delta)\n",
    "    \n",
    "    total_loss =cross_entropy_loss(fake_dirac_delta,fake_prediction)+ cross_entropy_loss(real_dirac_delta,real_prediction) \n",
    "    return total_loss"
   ]
  },
  {
   "cell_type": "markdown",
   "metadata": {},
   "source": [
    "**Define Optimizers**"
   ]
  },
  {
   "cell_type": "code",
   "execution_count": 10,
   "metadata": {},
   "outputs": [],
   "source": [
    "discriminator_optimizer = tf.keras.optimizers.Adam(LEARNING_RATE)\n",
    "\n",
    "generator_optimizer=[None]*NUM_OF_GENERATORS\n",
    "for i in range(0,NUM_OF_GENERATORS):\n",
    "    generator_optimizer[i]=tf.keras.optimizers.Adam(LEARNING_RATE)\n"
   ]
  },
  {
   "cell_type": "markdown",
   "metadata": {},
   "source": [
    "**Define Model Instances**"
   ]
  },
  {
   "cell_type": "code",
   "execution_count": 11,
   "metadata": {},
   "outputs": [
    {
     "name": "stdout",
     "output_type": "stream",
     "text": [
      "Model: \"sequential_2\"\n",
      "_________________________________________________________________\n",
      "Layer (type)                 Output Shape              Param #   \n",
      "=================================================================\n",
      "gaussian_noise_1 (GaussianNo (None, 32, 32, 3)         0         \n",
      "_________________________________________________________________\n",
      "conv2d_2 (Conv2D)            (None, 16, 16, 64)        4864      \n",
      "_________________________________________________________________\n",
      "leaky_re_lu_5 (LeakyReLU)    (None, 16, 16, 64)        0         \n",
      "_________________________________________________________________\n",
      "conv2d_3 (Conv2D)            (None, 8, 8, 128)         204928    \n",
      "_________________________________________________________________\n",
      "batch_normalization_v2_4 (Ba (None, 8, 8, 128)         512       \n",
      "_________________________________________________________________\n",
      "leaky_re_lu_6 (LeakyReLU)    (None, 8, 8, 128)         0         \n",
      "_________________________________________________________________\n",
      "flatten_1 (Flatten)          (None, 8192)              0         \n",
      "_________________________________________________________________\n",
      "dense_2 (Dense)              (None, 6)                 49158     \n",
      "=================================================================\n",
      "Total params: 259,462\n",
      "Trainable params: 259,206\n",
      "Non-trainable params: 256\n",
      "_________________________________________________________________\n",
      "Model: \"sequential_3\"\n",
      "_________________________________________________________________\n",
      "Layer (type)                 Output Shape              Param #   \n",
      "=================================================================\n",
      "dense_3 (Dense)              (None, 8192)              2097152   \n",
      "_________________________________________________________________\n",
      "batch_normalization_v2_5 (Ba (None, 8192)              32768     \n",
      "_________________________________________________________________\n",
      "leaky_re_lu_7 (LeakyReLU)    (None, 8192)              0         \n",
      "_________________________________________________________________\n",
      "reshape_1 (Reshape)          (None, 4, 4, 512)         0         \n",
      "_________________________________________________________________\n",
      "conv2d_transpose_3 (Conv2DTr (None, 8, 8, 256)         3276800   \n",
      "_________________________________________________________________\n",
      "batch_normalization_v2_6 (Ba (None, 8, 8, 256)         1024      \n",
      "_________________________________________________________________\n",
      "leaky_re_lu_8 (LeakyReLU)    (None, 8, 8, 256)         0         \n",
      "_________________________________________________________________\n",
      "conv2d_transpose_4 (Conv2DTr (None, 16, 16, 128)       819200    \n",
      "_________________________________________________________________\n",
      "batch_normalization_v2_7 (Ba (None, 16, 16, 128)       512       \n",
      "_________________________________________________________________\n",
      "leaky_re_lu_9 (LeakyReLU)    (None, 16, 16, 128)       0         \n",
      "_________________________________________________________________\n",
      "conv2d_transpose_5 (Conv2DTr (None, 32, 32, 3)         9600      \n",
      "=================================================================\n",
      "Total params: 6,237,056\n",
      "Trainable params: 6,219,904\n",
      "Non-trainable params: 17,152\n",
      "_________________________________________________________________\n",
      "Model: \"sequential_4\"\n",
      "_________________________________________________________________\n",
      "Layer (type)                 Output Shape              Param #   \n",
      "=================================================================\n",
      "dense_4 (Dense)              (None, 8192)              2097152   \n",
      "_________________________________________________________________\n",
      "batch_normalization_v2_8 (Ba (None, 8192)              32768     \n",
      "_________________________________________________________________\n",
      "leaky_re_lu_10 (LeakyReLU)   (None, 8192)              0         \n",
      "_________________________________________________________________\n",
      "reshape_2 (Reshape)          (None, 4, 4, 512)         0         \n",
      "_________________________________________________________________\n",
      "conv2d_transpose_6 (Conv2DTr (None, 8, 8, 256)         3276800   \n",
      "_________________________________________________________________\n",
      "batch_normalization_v2_9 (Ba (None, 8, 8, 256)         1024      \n",
      "_________________________________________________________________\n",
      "leaky_re_lu_11 (LeakyReLU)   (None, 8, 8, 256)         0         \n",
      "_________________________________________________________________\n",
      "conv2d_transpose_7 (Conv2DTr (None, 16, 16, 128)       819200    \n",
      "_________________________________________________________________\n",
      "batch_normalization_v2_10 (B (None, 16, 16, 128)       512       \n",
      "_________________________________________________________________\n",
      "leaky_re_lu_12 (LeakyReLU)   (None, 16, 16, 128)       0         \n",
      "_________________________________________________________________\n",
      "conv2d_transpose_8 (Conv2DTr (None, 32, 32, 3)         9600      \n",
      "=================================================================\n",
      "Total params: 6,237,056\n",
      "Trainable params: 6,219,904\n",
      "Non-trainable params: 17,152\n",
      "_________________________________________________________________\n",
      "Model: \"sequential_5\"\n",
      "_________________________________________________________________\n",
      "Layer (type)                 Output Shape              Param #   \n",
      "=================================================================\n",
      "dense_5 (Dense)              (None, 8192)              2097152   \n",
      "_________________________________________________________________\n",
      "batch_normalization_v2_11 (B (None, 8192)              32768     \n",
      "_________________________________________________________________\n",
      "leaky_re_lu_13 (LeakyReLU)   (None, 8192)              0         \n",
      "_________________________________________________________________\n",
      "reshape_3 (Reshape)          (None, 4, 4, 512)         0         \n",
      "_________________________________________________________________\n",
      "conv2d_transpose_9 (Conv2DTr (None, 8, 8, 256)         3276800   \n",
      "_________________________________________________________________\n",
      "batch_normalization_v2_12 (B (None, 8, 8, 256)         1024      \n",
      "_________________________________________________________________\n",
      "leaky_re_lu_14 (LeakyReLU)   (None, 8, 8, 256)         0         \n",
      "_________________________________________________________________\n",
      "conv2d_transpose_10 (Conv2DT (None, 16, 16, 128)       819200    \n",
      "_________________________________________________________________\n",
      "batch_normalization_v2_13 (B (None, 16, 16, 128)       512       \n",
      "_________________________________________________________________\n",
      "leaky_re_lu_15 (LeakyReLU)   (None, 16, 16, 128)       0         \n",
      "_________________________________________________________________\n",
      "conv2d_transpose_11 (Conv2DT (None, 32, 32, 3)         9600      \n",
      "=================================================================\n",
      "Total params: 6,237,056\n",
      "Trainable params: 6,219,904\n",
      "Non-trainable params: 17,152\n",
      "_________________________________________________________________\n",
      "Model: \"sequential_6\"\n",
      "_________________________________________________________________\n",
      "Layer (type)                 Output Shape              Param #   \n",
      "=================================================================\n",
      "dense_6 (Dense)              (None, 8192)              2097152   \n",
      "_________________________________________________________________\n",
      "batch_normalization_v2_14 (B (None, 8192)              32768     \n",
      "_________________________________________________________________\n",
      "leaky_re_lu_16 (LeakyReLU)   (None, 8192)              0         \n",
      "_________________________________________________________________\n",
      "reshape_4 (Reshape)          (None, 4, 4, 512)         0         \n",
      "_________________________________________________________________\n",
      "conv2d_transpose_12 (Conv2DT (None, 8, 8, 256)         3276800   \n",
      "_________________________________________________________________\n",
      "batch_normalization_v2_15 (B (None, 8, 8, 256)         1024      \n",
      "_________________________________________________________________\n",
      "leaky_re_lu_17 (LeakyReLU)   (None, 8, 8, 256)         0         \n",
      "_________________________________________________________________\n",
      "conv2d_transpose_13 (Conv2DT (None, 16, 16, 128)       819200    \n",
      "_________________________________________________________________\n",
      "batch_normalization_v2_16 (B (None, 16, 16, 128)       512       \n",
      "_________________________________________________________________\n",
      "leaky_re_lu_18 (LeakyReLU)   (None, 16, 16, 128)       0         \n",
      "_________________________________________________________________\n",
      "conv2d_transpose_14 (Conv2DT (None, 32, 32, 3)         9600      \n",
      "=================================================================\n",
      "Total params: 6,237,056\n",
      "Trainable params: 6,219,904\n",
      "Non-trainable params: 17,152\n",
      "_________________________________________________________________\n"
     ]
    },
    {
     "name": "stdout",
     "output_type": "stream",
     "text": [
      "Model: \"sequential_7\"\n",
      "_________________________________________________________________\n",
      "Layer (type)                 Output Shape              Param #   \n",
      "=================================================================\n",
      "dense_7 (Dense)              (None, 8192)              2097152   \n",
      "_________________________________________________________________\n",
      "batch_normalization_v2_17 (B (None, 8192)              32768     \n",
      "_________________________________________________________________\n",
      "leaky_re_lu_19 (LeakyReLU)   (None, 8192)              0         \n",
      "_________________________________________________________________\n",
      "reshape_5 (Reshape)          (None, 4, 4, 512)         0         \n",
      "_________________________________________________________________\n",
      "conv2d_transpose_15 (Conv2DT (None, 8, 8, 256)         3276800   \n",
      "_________________________________________________________________\n",
      "batch_normalization_v2_18 (B (None, 8, 8, 256)         1024      \n",
      "_________________________________________________________________\n",
      "leaky_re_lu_20 (LeakyReLU)   (None, 8, 8, 256)         0         \n",
      "_________________________________________________________________\n",
      "conv2d_transpose_16 (Conv2DT (None, 16, 16, 128)       819200    \n",
      "_________________________________________________________________\n",
      "batch_normalization_v2_19 (B (None, 16, 16, 128)       512       \n",
      "_________________________________________________________________\n",
      "leaky_re_lu_21 (LeakyReLU)   (None, 16, 16, 128)       0         \n",
      "_________________________________________________________________\n",
      "conv2d_transpose_17 (Conv2DT (None, 32, 32, 3)         9600      \n",
      "=================================================================\n",
      "Total params: 6,237,056\n",
      "Trainable params: 6,219,904\n",
      "Non-trainable params: 17,152\n",
      "_________________________________________________________________\n"
     ]
    }
   ],
   "source": [
    "discriminator = Discriminator()\n",
    "\n",
    "generator=[None]*NUM_OF_GENERATORS\n",
    "for i in range(0,NUM_OF_GENERATORS):\n",
    "    generator[i]=Generator()\n",
    "    "
   ]
  },
  {
   "cell_type": "markdown",
   "metadata": {},
   "source": [
    "**Define Checkpoints**"
   ]
  },
  {
   "cell_type": "code",
   "execution_count": null,
   "metadata": {},
   "outputs": [],
   "source": []
  },
  {
   "cell_type": "markdown",
   "metadata": {},
   "source": [
    "**Define Training**"
   ]
  },
  {
   "cell_type": "code",
   "execution_count": 12,
   "metadata": {},
   "outputs": [],
   "source": [
    "def generate_noise():\n",
    "    return tf.random.normal((BATCH_SIZE,NOISE_DIM),NOISE_MEAN,NOISE_STD_DEV)\n",
    "\n",
    "def training_step(real_image):\n",
    "    input_noise = generate_noise()\n",
    "    for i in range(0,NUM_OF_GENERATORS):\n",
    "        with tf.GradientTape() as generator_tape, tf.GradientTape() as discriminator_tape :\n",
    "            fake_image  = generator[i](input_noise,training=True)\n",
    "\n",
    "            real_output = discriminator(real_image,training=True)\n",
    "            fake_output = discriminator(fake_image,training=True)\n",
    "            \n",
    "            generator_loss     = generatorLoss(fake_output)\n",
    "            discriminator_loss = discriminatorLoss(fake_output,real_output,i)\n",
    "\n",
    "        generator_gradient     = generator_tape.gradient(generator_loss,generator[i].trainable_variables) \n",
    "        discriminator_gradient = discriminator_tape.gradient(discriminator_loss,discriminator.trainable_variables) \n",
    "        \n",
    "        generator_optimizer[i].apply_gradients(zip(generator_gradient,generator[i].trainable_variables))\n",
    "        discriminator_optimizer.apply_gradients(zip(discriminator_gradient,discriminator.trainable_variables))\n",
    "\n",
    "def train_model(no_of_epochs,data):\n",
    "    for epoch in range(0,no_of_epochs):\n",
    "        \n",
    "        dataset = tqdm(data)\n",
    "        for image_batch in dataset :\n",
    "            dataset.set_description(' Epoch %s '%(epoch+1))\n",
    "            training_step(image_batch)\n",
    "        \n",
    "        generate_visualization(epoch)\n"
   ]
  },
  {
   "cell_type": "markdown",
   "metadata": {},
   "source": [
    "**Visualization**"
   ]
  },
  {
   "cell_type": "code",
   "execution_count": 13,
   "metadata": {},
   "outputs": [],
   "source": [
    "\n",
    "def generate_concatenated(image_path_list,filename):\n",
    "    imgs    = [ PIL.Image.open(i) for i in image_path_list ]\n",
    "    min_shape = sorted( [(np.sum(i.size), i.size ) for i in imgs])[0][1]\n",
    "    imgs_comb = np.hstack( (np.asarray( i.resize(min_shape) ) for i in imgs ) )\n",
    "    imgs_comb = PIL.Image.fromarray( imgs_comb)\n",
    "    imgs_comb.save('./{}_G/Result/{}.png'.format(NUM_OF_GENERATORS,filename))\n",
    "    \n",
    "def generate_visualization(epoch):\n",
    "    imgs = []\n",
    "    for i in range(0,NUM_OF_GENERATORS):\n",
    "        display.clear_output(wait=True)\n",
    "        fig = plt.figure(figsize=(4,4))\n",
    "        generator_output = generator[i](SEED,training = False)\n",
    "        for j in range(generator_output.shape[0]):\n",
    "            plt.subplot(4, 4, j+1)\n",
    "            plt.imshow(generator_output[j, :, :, :] )\n",
    "            plt.axis('off')\n",
    "            \n",
    "        if not os.path.exists('./{}_G/{}/'.format(NUM_OF_GENERATORS,i+1)):\n",
    "            os.makedirs('./{}_G/{}/'.format(NUM_OF_GENERATORS,i+1))\n",
    "            \n",
    "        plt.savefig('./{}_G/{}/{:04d}.png'.format(NUM_OF_GENERATORS,i+1,epoch))\n",
    "        imgs.append('./{}_G/{}/{:04d}.png'.format(NUM_OF_GENERATORS,i+1,epoch))\n",
    "    \n",
    "      \n",
    "    if not os.path.exists('./{}_G/Result/'.format(NUM_OF_GENERATORS)):\n",
    "        os.makedirs('./{}_G/Result/'.format(NUM_OF_GENERATORS))\n",
    "    \n",
    "    generate_concatenated(imgs,epoch+1)"
   ]
  },
  {
   "cell_type": "code",
   "execution_count": null,
   "metadata": {},
   "outputs": [],
   "source": []
  },
  {
   "cell_type": "code",
   "execution_count": null,
   "metadata": {},
   "outputs": [
    {
     "name": "stderr",
     "output_type": "stream",
     "text": [
      "Clipping input data to the valid range for imshow with RGB data ([0..1] for floats or [0..255] for integers).\n",
      "Clipping input data to the valid range for imshow with RGB data ([0..1] for floats or [0..255] for integers).\n",
      "Clipping input data to the valid range for imshow with RGB data ([0..1] for floats or [0..255] for integers).\n",
      "Clipping input data to the valid range for imshow with RGB data ([0..1] for floats or [0..255] for integers).\n",
      "Clipping input data to the valid range for imshow with RGB data ([0..1] for floats or [0..255] for integers).\n",
      "Clipping input data to the valid range for imshow with RGB data ([0..1] for floats or [0..255] for integers).\n",
      "Clipping input data to the valid range for imshow with RGB data ([0..1] for floats or [0..255] for integers).\n",
      "Clipping input data to the valid range for imshow with RGB data ([0..1] for floats or [0..255] for integers).\n",
      "Clipping input data to the valid range for imshow with RGB data ([0..1] for floats or [0..255] for integers).\n",
      "Clipping input data to the valid range for imshow with RGB data ([0..1] for floats or [0..255] for integers).\n",
      "Clipping input data to the valid range for imshow with RGB data ([0..1] for floats or [0..255] for integers).\n",
      "Clipping input data to the valid range for imshow with RGB data ([0..1] for floats or [0..255] for integers).\n",
      "Clipping input data to the valid range for imshow with RGB data ([0..1] for floats or [0..255] for integers).\n",
      "Clipping input data to the valid range for imshow with RGB data ([0..1] for floats or [0..255] for integers).\n",
      "Clipping input data to the valid range for imshow with RGB data ([0..1] for floats or [0..255] for integers).\n",
      "Clipping input data to the valid range for imshow with RGB data ([0..1] for floats or [0..255] for integers).\n",
      " Epoch 98 : : 97it [00:58,  1.64it/s]"
     ]
    }
   ],
   "source": [
    "train_model(EPOCHS,train_dataset)"
   ]
  },
  {
   "cell_type": "code",
   "execution_count": null,
   "metadata": {},
   "outputs": [],
   "source": [
    "generate_visualization(-1)"
   ]
  },
  {
   "cell_type": "code",
   "execution_count": null,
   "metadata": {},
   "outputs": [],
   "source": [
    "train_model(EPOCHS,train_dataset)"
   ]
  },
  {
   "cell_type": "code",
   "execution_count": null,
   "metadata": {},
   "outputs": [],
   "source": []
  },
  {
   "cell_type": "code",
   "execution_count": null,
   "metadata": {},
   "outputs": [],
   "source": []
  },
  {
   "cell_type": "code",
   "execution_count": null,
   "metadata": {},
   "outputs": [],
   "source": []
  },
  {
   "cell_type": "code",
   "execution_count": null,
   "metadata": {},
   "outputs": [],
   "source": []
  },
  {
   "cell_type": "code",
   "execution_count": null,
   "metadata": {},
   "outputs": [],
   "source": []
  },
  {
   "cell_type": "code",
   "execution_count": null,
   "metadata": {},
   "outputs": [],
   "source": []
  }
 ],
 "metadata": {
  "kernelspec": {
   "display_name": "Python 3",
   "language": "python",
   "name": "python3"
  },
  "language_info": {
   "codemirror_mode": {
    "name": "ipython",
    "version": 3
   },
   "file_extension": ".py",
   "mimetype": "text/x-python",
   "name": "python",
   "nbconvert_exporter": "python",
   "pygments_lexer": "ipython3",
   "version": "3.7.3"
  }
 },
 "nbformat": 4,
 "nbformat_minor": 2
}
